{
 "cells": [
  {
   "cell_type": "code",
   "execution_count": 1,
   "metadata": {},
   "outputs": [],
   "source": [
    "import os\n",
    "import os.path\n",
    "import re\n",
    "import glob\n",
    "from shutil import copyfile, copy\n",
    "import pydicom\n",
    "import xlsxwriter"
   ]
  },
  {
   "cell_type": "code",
   "execution_count": 2,
   "metadata": {},
   "outputs": [],
   "source": [
    "# 序列重命名每个case\n",
    "def rename_dir(batch_path):\n",
    "    # 切换到给定目录下\n",
    "    os.chdir(batch_path)\n",
    "    # 序列第一个文件名\n",
    "    a = 1\n",
    "    for dir_or_file in os.listdir(batch_path):\n",
    "        # 筛选得到所有非隐藏的文件夹\n",
    "        if os.path.isdir(dir_or_file) and not dir_or_file.startswith('.') and not dir_or_file.startswith('pictures'):\n",
    "            # 重命名文件夹\n",
    "            os.rename(dir_or_file, str(a))\n",
    "            a += 1"
   ]
  },
  {
   "cell_type": "code",
   "execution_count": 3,
   "metadata": {},
   "outputs": [
    {
     "ename": "FileExistsError",
     "evalue": "[WinError 183] 当文件已存在时，无法创建该文件。: '10' -> '2'",
     "output_type": "error",
     "traceback": [
      "\u001b[1;31m---------------------------------------------------------------------------\u001b[0m",
      "\u001b[1;31mFileExistsError\u001b[0m                           Traceback (most recent call last)",
      "\u001b[1;32m<ipython-input-3-fc1adb03d3f8>\u001b[0m in \u001b[0;36m<module>\u001b[1;34m\u001b[0m\n\u001b[0;32m      1\u001b[0m \u001b[1;31m# 测试rename_dir()\u001b[0m\u001b[1;33m\u001b[0m\u001b[1;33m\u001b[0m\u001b[1;33m\u001b[0m\u001b[0m\n\u001b[1;32m----> 2\u001b[1;33m \u001b[0mrename_dir\u001b[0m\u001b[1;33m(\u001b[0m\u001b[1;34m'C:\\\\Users\\\\Steven\\\\Desktop\\\\CT_data\\\\CT_data3'\u001b[0m\u001b[1;33m)\u001b[0m\u001b[1;33m\u001b[0m\u001b[1;33m\u001b[0m\u001b[0m\n\u001b[0m",
      "\u001b[1;32m<ipython-input-2-7a0d69b81035>\u001b[0m in \u001b[0;36mrename_dir\u001b[1;34m(batch_path)\u001b[0m\n\u001b[0;32m      9\u001b[0m         \u001b[1;32mif\u001b[0m \u001b[0mos\u001b[0m\u001b[1;33m.\u001b[0m\u001b[0mpath\u001b[0m\u001b[1;33m.\u001b[0m\u001b[0misdir\u001b[0m\u001b[1;33m(\u001b[0m\u001b[0mdir_or_file\u001b[0m\u001b[1;33m)\u001b[0m \u001b[1;32mand\u001b[0m \u001b[1;32mnot\u001b[0m \u001b[0mdir_or_file\u001b[0m\u001b[1;33m.\u001b[0m\u001b[0mstartswith\u001b[0m\u001b[1;33m(\u001b[0m\u001b[1;34m'.'\u001b[0m\u001b[1;33m)\u001b[0m \u001b[1;32mand\u001b[0m \u001b[1;32mnot\u001b[0m \u001b[0mdir_or_file\u001b[0m\u001b[1;33m.\u001b[0m\u001b[0mstartswith\u001b[0m\u001b[1;33m(\u001b[0m\u001b[1;34m'pictures'\u001b[0m\u001b[1;33m)\u001b[0m\u001b[1;33m:\u001b[0m\u001b[1;33m\u001b[0m\u001b[1;33m\u001b[0m\u001b[0m\n\u001b[0;32m     10\u001b[0m             \u001b[1;31m# 重命名文件夹\u001b[0m\u001b[1;33m\u001b[0m\u001b[1;33m\u001b[0m\u001b[1;33m\u001b[0m\u001b[0m\n\u001b[1;32m---> 11\u001b[1;33m             \u001b[0mos\u001b[0m\u001b[1;33m.\u001b[0m\u001b[0mrename\u001b[0m\u001b[1;33m(\u001b[0m\u001b[0mdir_or_file\u001b[0m\u001b[1;33m,\u001b[0m \u001b[0mstr\u001b[0m\u001b[1;33m(\u001b[0m\u001b[0ma\u001b[0m\u001b[1;33m)\u001b[0m\u001b[1;33m)\u001b[0m\u001b[1;33m\u001b[0m\u001b[1;33m\u001b[0m\u001b[0m\n\u001b[0m\u001b[0;32m     12\u001b[0m             \u001b[0ma\u001b[0m \u001b[1;33m+=\u001b[0m \u001b[1;36m1\u001b[0m\u001b[1;33m\u001b[0m\u001b[1;33m\u001b[0m\u001b[0m\n",
      "\u001b[1;31mFileExistsError\u001b[0m: [WinError 183] 当文件已存在时，无法创建该文件。: '10' -> '2'"
     ]
    }
   ],
   "source": [
    "# 测试rename_dir()\n",
    "rename_dir('C:\\\\Users\\\\Steven\\\\Desktop\\\\CT_data\\\\CT_data3')"
   ]
  },
  {
   "cell_type": "code",
   "execution_count": 24,
   "metadata": {},
   "outputs": [],
   "source": [
    "# 复制每个case中的jpg文件到pictures文件夹下\n",
    "def get_pictures(batch_path):\n",
    "    # 切换到给定目录下\n",
    "    os.chdir(batch_path)\n",
    "    # 在当面目录下创建pictures文件夹\n",
    "    if os.path.exists(r'pictures'):\n",
    "        pass\n",
    "    else:\n",
    "        os.mkdir(r'pictures')\n",
    "    # 序列图片第一个文件名（需要与rename_dir中文件夹的第一个文件名对应）\n",
    "    a = 1\n",
    "    for dir_or_file in os.listdir(batch_path):\n",
    "        # 得到所有目标文件夹(含有jpg图片的文件夹)\n",
    "        if os.path.isdir(dir_or_file) and not dir_or_file.startswith(\".\") and not dir_or_file.startswith('pictures'):\n",
    "            # 得到当前目标文件夹下所有jpg文件\n",
    "            for file in glob.glob(dir_or_file + r'/*.jpg'):\n",
    "                # 新的图片名字\n",
    "                new_name = dir_or_file +  '/' +  dir_or_file + '.jpg'\n",
    "                # 重命名图片\n",
    "                os.rename(file, new_name)\n",
    "                # 复制jpg文件到pictures文件夹下\n",
    "                copy(new_name, r'pictures')\n",
    "                a += 1"
   ]
  },
  {
   "cell_type": "code",
   "execution_count": 25,
   "metadata": {},
   "outputs": [],
   "source": [
    "# 测试get_pictures()\n",
    "get_pictures('C:\\\\Users\\\\Steven\\\\Desktop\\\\CT_data\\\\CT_data3')"
   ]
  },
  {
   "cell_type": "code",
   "execution_count": 4,
   "metadata": {},
   "outputs": [],
   "source": [
    "# 给定一个case，递归调用找到任意一个dicom文件及该case的切片数量\n",
    "def find_dicom(case_path):\n",
    "    for dir_or_file in os.listdir(case_path):\n",
    "        dir_or_file_path = case_path + '/' + dir_or_file\n",
    "        if os.path.isdir(dir_or_file_path):\n",
    "            return find_dicom(dir_or_file_path)\n",
    "        else:\n",
    "            filename = dir_or_file_path\n",
    "            slice_number = len(os.listdir(case_path))\n",
    "            return filename, slice_number\n",
    "        \n",
    "# 读取dicom文件的患者信息\n",
    "def get_dicom_info(filename, slice_number, dir_or_file):\n",
    "    # 建立患者信息字典\n",
    "    information = {}\n",
    "    # 读取信息\n",
    "    ds = pydicom.read_file(filename)\n",
    "    # 患者id\n",
    "    information['ID'] = int(dir_or_file)\n",
    "    # 患者性别\n",
    "    if ds.PatientSex == 'M':\n",
    "        information['Sex'] = 'man'\n",
    "    else:\n",
    "        information['Sex'] = 'woman'\n",
    "    try:\n",
    "        # 患者年龄\n",
    "        information['Age'] = ds.PatientAge\n",
    "    except Exception:\n",
    "        information['Age'] = 0\n",
    "    # slice_number\n",
    "    information['Slice_num'] = slice_number\n",
    "    return information\n",
    "\n",
    "# 创建一个批次患者的information_list\n",
    "def get_information_list(batch_path):\n",
    "    # 创建information_list\n",
    "    information_list = []\n",
    "    for dir_or_file in os.listdir(batch_path):\n",
    "        # 得到case_path\n",
    "        if os.path.isdir(dir_or_file) and not dir_or_file.startswith(\".\") and not dir_or_file.startswith('pictures'):\n",
    "            # 进入每个case_path得到对应的filename和slice_number\n",
    "            filename, slice_number = find_dicom(os.getcwd() + '/' + dir_or_file + '/' + 'DICOM')\n",
    "            # 通过得到的filename和slice_number得到患者的information字典\n",
    "            information = get_dicom_info(filename, slice_number, dir_or_file)\n",
    "            # 将字典添加到information_list中\n",
    "            information_list.append(information)\n",
    "    return information_list\n",
    "\n",
    "# 将病患信息和切片数量写入excel文件中\n",
    "def generate_excel(batch_path, excel_path):\n",
    "    # 创建一个工作簿并添加一个工作表\n",
    "    wb = xlsxwriter.Workbook(excel_path)\n",
    "    ws = wb.add_worksheet()\n",
    "    # 写入表格每一栏标题信息\n",
    "    ws.write(0, 0, 'No.')\n",
    "    ws.write(0, 1, 'Sex')\n",
    "    ws.write(0, 2, 'Age')\n",
    "    ws.write(0, 3, 'Slice_num')\n",
    "    ws.write(0, 4, '诊断信息')\n",
    "    # 得到batch_path下的information_list\n",
    "    information_list = get_information_list(batch_path)\n",
    "    # 患者信息的初始行数与列数及编号\n",
    "    col = 0\n",
    "    # 得到每个患者的信息\n",
    "    for information in information_list:\n",
    "        row = information['ID']\n",
    "        ws.write(row, col,   information['ID'])\n",
    "        ws.write(row, col+1, information['Sex'])\n",
    "        ws.write(row, col+2, information['Age'])\n",
    "        ws.write(row, col+3, information['Slice_num'])\n",
    "    # 关闭并保存工作簿\n",
    "    wb.close()"
   ]
  },
  {
   "cell_type": "code",
   "execution_count": 5,
   "metadata": {},
   "outputs": [
    {
     "ename": "PermissionError",
     "evalue": "[Errno 13] Permission denied: 'C:\\\\Users\\\\Steven\\\\Desktop\\\\CT_data\\\\CT_data3\\\\third_batch.xlsx'",
     "output_type": "error",
     "traceback": [
      "\u001b[1;31m---------------------------------------------------------------------------\u001b[0m",
      "\u001b[1;31mPermissionError\u001b[0m                           Traceback (most recent call last)",
      "\u001b[1;32m<ipython-input-5-54ca8e707ee1>\u001b[0m in \u001b[0;36m<module>\u001b[1;34m\u001b[0m\n\u001b[0;32m      1\u001b[0m \u001b[1;31m# 测试generate_excel()\u001b[0m\u001b[1;33m\u001b[0m\u001b[1;33m\u001b[0m\u001b[1;33m\u001b[0m\u001b[0m\n\u001b[1;32m----> 2\u001b[1;33m \u001b[0mgenerate_excel\u001b[0m\u001b[1;33m(\u001b[0m\u001b[1;34m'C:\\\\Users\\\\Steven\\\\Desktop\\\\CT_data\\\\CT_data3'\u001b[0m\u001b[1;33m,\u001b[0m \u001b[1;34m'C:\\\\Users\\\\Steven\\\\Desktop\\\\CT_data\\\\CT_data3\\\\third_batch.xlsx'\u001b[0m\u001b[1;33m)\u001b[0m\u001b[1;33m\u001b[0m\u001b[1;33m\u001b[0m\u001b[0m\n\u001b[0m",
      "\u001b[1;32m<ipython-input-4-525ffaab75b6>\u001b[0m in \u001b[0;36mgenerate_excel\u001b[1;34m(batch_path, excel_path)\u001b[0m\n\u001b[0;32m     70\u001b[0m         \u001b[0mws\u001b[0m\u001b[1;33m.\u001b[0m\u001b[0mwrite\u001b[0m\u001b[1;33m(\u001b[0m\u001b[0mrow\u001b[0m\u001b[1;33m,\u001b[0m \u001b[0mcol\u001b[0m\u001b[1;33m+\u001b[0m\u001b[1;36m3\u001b[0m\u001b[1;33m,\u001b[0m \u001b[0minformation\u001b[0m\u001b[1;33m[\u001b[0m\u001b[1;34m'Slice_num'\u001b[0m\u001b[1;33m]\u001b[0m\u001b[1;33m)\u001b[0m\u001b[1;33m\u001b[0m\u001b[1;33m\u001b[0m\u001b[0m\n\u001b[0;32m     71\u001b[0m     \u001b[1;31m# 关闭并保存工作簿\u001b[0m\u001b[1;33m\u001b[0m\u001b[1;33m\u001b[0m\u001b[1;33m\u001b[0m\u001b[0m\n\u001b[1;32m---> 72\u001b[1;33m     \u001b[0mwb\u001b[0m\u001b[1;33m.\u001b[0m\u001b[0mclose\u001b[0m\u001b[1;33m(\u001b[0m\u001b[1;33m)\u001b[0m\u001b[1;33m\u001b[0m\u001b[1;33m\u001b[0m\u001b[0m\n\u001b[0m",
      "\u001b[1;32m~\\Anaconda3\\envs\\py36\\lib\\site-packages\\xlsxwriter\\workbook.py\u001b[0m in \u001b[0;36mclose\u001b[1;34m(self)\u001b[0m\n\u001b[0;32m    304\u001b[0m         \u001b[1;32mif\u001b[0m \u001b[1;32mnot\u001b[0m \u001b[0mself\u001b[0m\u001b[1;33m.\u001b[0m\u001b[0mfileclosed\u001b[0m\u001b[1;33m:\u001b[0m\u001b[1;33m\u001b[0m\u001b[1;33m\u001b[0m\u001b[0m\n\u001b[0;32m    305\u001b[0m             \u001b[0mself\u001b[0m\u001b[1;33m.\u001b[0m\u001b[0mfileclosed\u001b[0m \u001b[1;33m=\u001b[0m \u001b[1;36m1\u001b[0m\u001b[1;33m\u001b[0m\u001b[1;33m\u001b[0m\u001b[0m\n\u001b[1;32m--> 306\u001b[1;33m             \u001b[0mself\u001b[0m\u001b[1;33m.\u001b[0m\u001b[0m_store_workbook\u001b[0m\u001b[1;33m(\u001b[0m\u001b[1;33m)\u001b[0m\u001b[1;33m\u001b[0m\u001b[1;33m\u001b[0m\u001b[0m\n\u001b[0m\u001b[0;32m    307\u001b[0m \u001b[1;33m\u001b[0m\u001b[0m\n\u001b[0;32m    308\u001b[0m     \u001b[1;32mdef\u001b[0m \u001b[0mset_size\u001b[0m\u001b[1;33m(\u001b[0m\u001b[0mself\u001b[0m\u001b[1;33m,\u001b[0m \u001b[0mwidth\u001b[0m\u001b[1;33m,\u001b[0m \u001b[0mheight\u001b[0m\u001b[1;33m)\u001b[0m\u001b[1;33m:\u001b[0m\u001b[1;33m\u001b[0m\u001b[1;33m\u001b[0m\u001b[0m\n",
      "\u001b[1;32m~\\Anaconda3\\envs\\py36\\lib\\site-packages\\xlsxwriter\\workbook.py\u001b[0m in \u001b[0;36m_store_workbook\u001b[1;34m(self)\u001b[0m\n\u001b[0;32m    653\u001b[0m \u001b[1;33m\u001b[0m\u001b[0m\n\u001b[0;32m    654\u001b[0m         xlsx_file = ZipFile(self.filename, \"w\", compression=ZIP_DEFLATED,\n\u001b[1;32m--> 655\u001b[1;33m                             allowZip64=self.allow_zip64)\n\u001b[0m\u001b[0;32m    656\u001b[0m \u001b[1;33m\u001b[0m\u001b[0m\n\u001b[0;32m    657\u001b[0m         \u001b[1;31m# Add XML sub-files to the Zip file with their Excel filename.\u001b[0m\u001b[1;33m\u001b[0m\u001b[1;33m\u001b[0m\u001b[1;33m\u001b[0m\u001b[0m\n",
      "\u001b[1;32m~\\Anaconda3\\envs\\py36\\lib\\zipfile.py\u001b[0m in \u001b[0;36m__init__\u001b[1;34m(self, file, mode, compression, allowZip64)\u001b[0m\n\u001b[0;32m   1111\u001b[0m             \u001b[1;32mwhile\u001b[0m \u001b[1;32mTrue\u001b[0m\u001b[1;33m:\u001b[0m\u001b[1;33m\u001b[0m\u001b[1;33m\u001b[0m\u001b[0m\n\u001b[0;32m   1112\u001b[0m                 \u001b[1;32mtry\u001b[0m\u001b[1;33m:\u001b[0m\u001b[1;33m\u001b[0m\u001b[1;33m\u001b[0m\u001b[0m\n\u001b[1;32m-> 1113\u001b[1;33m                     \u001b[0mself\u001b[0m\u001b[1;33m.\u001b[0m\u001b[0mfp\u001b[0m \u001b[1;33m=\u001b[0m \u001b[0mio\u001b[0m\u001b[1;33m.\u001b[0m\u001b[0mopen\u001b[0m\u001b[1;33m(\u001b[0m\u001b[0mfile\u001b[0m\u001b[1;33m,\u001b[0m \u001b[0mfilemode\u001b[0m\u001b[1;33m)\u001b[0m\u001b[1;33m\u001b[0m\u001b[1;33m\u001b[0m\u001b[0m\n\u001b[0m\u001b[0;32m   1114\u001b[0m                 \u001b[1;32mexcept\u001b[0m \u001b[0mOSError\u001b[0m\u001b[1;33m:\u001b[0m\u001b[1;33m\u001b[0m\u001b[1;33m\u001b[0m\u001b[0m\n\u001b[0;32m   1115\u001b[0m                     \u001b[1;32mif\u001b[0m \u001b[0mfilemode\u001b[0m \u001b[1;32min\u001b[0m \u001b[0mmodeDict\u001b[0m\u001b[1;33m:\u001b[0m\u001b[1;33m\u001b[0m\u001b[1;33m\u001b[0m\u001b[0m\n",
      "\u001b[1;31mPermissionError\u001b[0m: [Errno 13] Permission denied: 'C:\\\\Users\\\\Steven\\\\Desktop\\\\CT_data\\\\CT_data3\\\\third_batch.xlsx'"
     ]
    }
   ],
   "source": [
    "# 测试generate_excel()\n",
    "generate_excel('C:\\\\Users\\\\Steven\\\\Desktop\\\\CT_data\\\\CT_data3', 'C:\\\\Users\\\\Steven\\\\Desktop\\\\CT_data\\\\CT_data3\\\\third_batch.xlsx')"
   ]
  },
  {
   "cell_type": "code",
   "execution_count": null,
   "metadata": {},
   "outputs": [],
   "source": []
  },
  {
   "cell_type": "code",
   "execution_count": null,
   "metadata": {},
   "outputs": [],
   "source": []
  }
 ],
 "metadata": {
  "kernelspec": {
   "display_name": "Python 3",
   "language": "python",
   "name": "python3"
  },
  "language_info": {
   "codemirror_mode": {
    "name": "ipython",
    "version": 3
   },
   "file_extension": ".py",
   "mimetype": "text/x-python",
   "name": "python",
   "nbconvert_exporter": "python",
   "pygments_lexer": "ipython3",
   "version": "3.6.8"
  }
 },
 "nbformat": 4,
 "nbformat_minor": 2
}
